{
 "cells": [
  {
   "cell_type": "code",
   "execution_count": null,
   "metadata": {
    "colab": {
     "base_uri": "https://localhost:8080/"
    },
    "id": "ehr6_FrNbrKQ",
    "outputId": "55545ab4-903d-49dd-895c-ac6753f9ffef"
   },
   "outputs": [],
   "source": [
    "from google.colab import drive\n",
    "drive.mount('/content/drive')"
   ]
  },
  {
   "cell_type": "code",
   "execution_count": null,
   "metadata": {
    "colab": {
     "base_uri": "https://localhost:8080/"
    },
    "id": "X13xZpPMbxUM",
    "outputId": "5186ce68-d62a-44c5-acaa-7c10e0a421b8"
   },
   "outputs": [],
   "source": [
    "cd /content/drive/MyDrive/Herron_lab/Neural_data/Neural - MPQ"
   ]
  },
  {
   "cell_type": "code",
   "execution_count": null,
   "metadata": {
    "id": "s1VF2BLubzx2"
   },
   "outputs": [],
   "source": [
    "import h5py as hp\n",
    "import numpy as np\n",
    "import pandas as pd\n",
    "import os\n",
    "from google.colab import auth\n",
    "auth.authenticate_user()\n",
    "import sklearn\n",
    "import scipy\n",
    "import gspread\n",
    "import scipy\n",
    "import re\n",
    "from google.auth import default\n",
    "import matplotlib.pyplot as plt\n",
    "from sklearn.decomposition import FastICA\n",
    "import scipy.signal as signal\n",
    "import scipy.linalg as la\n",
    "import tqdm\n",
    "# import mne\n",
    "%matplotlib inline\n",
    "creds, _ = default()\n",
    "gc = gspread.authorize(creds)\n"
   ]
  },
  {
   "cell_type": "code",
   "execution_count": null,
   "metadata": {
    "id": "-xS3NM-hb2Ts"
   },
   "outputs": [],
   "source": [
    "#load the survey sheet\n",
    "\n",
    "spreadsheet = gc.open('6c29e3_MPQ_survey_responses').sheet1\n",
    "rows = spreadsheet.get_all_values()\n",
    "survey_response = pd.DataFrame(rows[1:], columns=rows[0])"
   ]
  },
  {
   "cell_type": "code",
   "execution_count": null,
   "metadata": {
    "colab": {
     "base_uri": "https://localhost:8080/",
     "height": 934
    },
    "id": "HBHTu75T2NrA",
    "outputId": "2bba17e0-e4b4-4ba9-cf12-b903e38c6c1c"
   },
   "outputs": [],
   "source": [
    "survey_response"
   ]
  },
  {
   "cell_type": "code",
   "execution_count": null,
   "metadata": {
    "id": "qcQH1xahb4R-"
   },
   "outputs": [],
   "source": [
    "\n",
    "\n",
    "'''\n",
    "Converting pain scores into labels\n",
    "Where keys are specific days and the values are the labels of each trial of the day\n",
    "defaultdict(list,\n",
    "            {'2': [1, 1, 1],\n",
    "             '3': [1, 1, 1],\n",
    "             '4': [1, 0, 0, 1], #test\n",
    "             '5': [0, 0, 0],\n",
    "             '6': [0],\n",
    "             '7': [0, 0]})'''\n",
    "from collections import defaultdict\n",
    "\n",
    "labels=defaultdict(list)\n",
    "for iter in range(len(survey_response)):\n",
    "  labels[survey_response.day[iter]].append(survey_response.Total[iter])\n",
    "\n",
    "Pain=[]\n",
    "for iter in range(len(survey_response)):\n",
    "  Pain.append(int(survey_response.Total[iter]))\n",
    "\n",
    "for key,value in labels.items():\n",
    "\n",
    "  for pains in range(len(value)):\n",
    "    if int(value[pains])>np.median(Pain):\n",
    "      value[pains]=1\n",
    "    else:\n",
    "      value[pains]=0\n"
   ]
  },
  {
   "cell_type": "code",
   "execution_count": null,
   "metadata": {
    "id": "Ub3P-w83-VI_"
   },
   "outputs": [],
   "source": [
    "'''Loading the dataset\n",
    "'''\n",
    "h5files=[]\n",
    "path='/content/drive/MyDrive/Herron_lab/Neural_data/Neural - MPQ' #provide the path to SEED EEG dataset\n",
    "files=os.listdir(path)\n",
    "for index in range(len(files)):\n",
    "  if files[index].endswith('.h5'):\n",
    "    h5files.append(files[index])"
   ]
  },
  {
   "cell_type": "code",
   "execution_count": null,
   "metadata": {
    "colab": {
     "base_uri": "https://localhost:8080/"
    },
    "id": "GfejSgVj_xkH",
    "outputId": "ce3a9877-a63b-450d-de00-28bcfe2acbd5"
   },
   "outputs": [],
   "source": [
    "h5files"
   ]
  },
  {
   "cell_type": "code",
   "execution_count": null,
   "metadata": {
    "id": "nTgSc1fsC6XU"
   },
   "outputs": [],
   "source": [
    "#Calculating total power in band for the data\n",
    "def bandpower(x_data, fs, fmin, fmax):\n",
    "  power_in_band=[]\n",
    "  for i in range(x_data.shape[0]):\n",
    "    x=x_data[i,:]\n",
    "    f, Pxx = scipy.signal.welch(x, fs=fs)\n",
    "    ind_min = np.argmax(f > fmin) - 1\n",
    "    ind_max = np.argmax(f > fmax) - 1\n",
    "    power_in_band.append(np.trapz(Pxx[ind_min: ind_max], f[ind_min: ind_max]))\n",
    "  return np.array(power_in_band)\n",
    "\n",
    "#load the pain data and calculate the band power for theta, alpha, beta, gamma\n",
    "def calc_features_bandpower(data):\n",
    "\n",
    "  theta_power = bandpower(data,512,4,8)\n",
    "  alpha_power = bandpower(data,512,8,13)\n",
    "  beta_power = bandpower(data,512,13,30)\n",
    "  gamma_power = bandpower(data,512,30,70)\n",
    "  features = []\n",
    "  for i in range(198):\n",
    "    features.append([theta_power[i],alpha_power[i],beta_power[i],gamma_power[i]])\n",
    "  return np.array(features)\n",
    "\n"
   ]
  },
  {
   "cell_type": "code",
   "execution_count": null,
   "metadata": {
    "id": "VtZiBQhCEwD1"
   },
   "outputs": [],
   "source": [
    "#PIB using butterworth and hilbert\n",
    "def filtering(data_ecog):\n",
    "  sos_delta=signal.butter(2,[0.1,4],btype='bandpass',analog=False, output='sos',fs=500)\n",
    "  sos_theta=signal.butter(2,[4,8],btype='bandpass',analog=False, output='sos',fs=500)\n",
    "  sos_alpha=signal.butter(2,[8,13],btype='bandpass',analog=False, output='sos',fs=500)\n",
    "  sos_beta=signal.butter(2,[13,30],btype='bandpass',analog=False, output='sos',fs=500)\n",
    "  sos_gamma=signal.butter(2,[30,60],btype='bandpass',analog=False, output='sos',fs=500)\n",
    "  sos_highgamma=signal.butter(2,[60,200],btype='bandpass',analog=False, output='sos',fs=500)\n",
    "  delta_filter = signal.sosfilt(sos_delta,data_ecog)\n",
    "  theta_filter = signal.sosfilt(sos_theta,data_ecog)\n",
    "  alpha_filter = signal.sosfilt(sos_alpha,data_ecog)\n",
    "  beta_filter = signal.sosfilt(sos_beta,data_ecog)\n",
    "  gamma_filter = signal.sosfilt(sos_gamma,data_ecog)\n",
    "  highgamma_filter = signal.sosfilt(sos_highgamma,data_ecog)\n",
    "  return [delta_filter,theta_filter,alpha_filter,beta_filter,gamma_filter,highgamma_filter]\n",
    "\n",
    "def PIB(data):\n",
    "    filter_series=filtering(data)\n",
    "    power_delta = np.sum(np.abs(signal.hilbert(filter_series[0]))**2,axis=1)\n",
    "    power_theta= np.sum(np.abs(signal.hilbert(filter_series[1]))**2,axis=1)\n",
    "    power_alpha= np.sum(np.abs(signal.hilbert(filter_series[2]))**2,axis=1)\n",
    "    power_beta= np.sum(np.abs(signal.hilbert(filter_series[3]))**2,axis=1)\n",
    "    power_gamma= np.sum(np.abs(signal.hilbert(filter_series[4]))**2,axis=1)\n",
    "    power_high_gamma= np.sum(np.abs(signal.hilbert(filter_series[5]))**2,axis=1)\n",
    "    feature_power=[]\n",
    "    for i in range(198):\n",
    "      feature_power.append([power_delta[i],power_theta[i],power_alpha[i],power_beta[i],power_gamma[i],power_high_gamma[i]])\n",
    "    return np.array(feature_power)\n",
    "\n",
    "\n",
    "    # for filters in range(len(filter_series)):\n",
    "        # hilbert_transformed_signal = signal.hilbert(filter_series[filters])\n",
    "        # breakpoint()\n",
    "\n",
    "        # power = np.abs(hilbert_transformed_signal)**2\n",
    "        # ax.plot(power)\n",
    "\n"
   ]
  },
  {
   "cell_type": "code",
   "execution_count": null,
   "metadata": {
    "id": "zInKWQ03k75s"
   },
   "outputs": [],
   "source": [
    "def sliding_window_augmentation(data): #198x153600\n",
    "  window_sizee = 15360\n",
    "  stride = 15360\n",
    "  final_arrays=[]\n",
    "  for i in range(10):\n",
    "    subarray = data[:,15360*i:15360*(i+1)]\n",
    "    final_arrays.append(subarray)\n",
    "  return np.array(final_arrays)\n",
    "\n",
    "\n",
    "\n"
   ]
  },
  {
   "cell_type": "code",
   "execution_count": null,
   "metadata": {
    "id": "CI1GP5s1RttY"
   },
   "outputs": [],
   "source": [
    "# Common Spatial Pattern implementation in Python, used to build spatial filters for identifying task-related activity.\n",
    "\n",
    "#Code obtained from github\n",
    "\n",
    "# CSP takes any number of arguments, but each argument must be a collection of trials associated with a task\n",
    "# That is, for N tasks, N arrays are passed to CSP each with dimensionality (# of trials of task N) x (feature vector)\n",
    "# Trials may be of any dimension, provided that each trial for each task has the same dimensionality,\n",
    "# otherwise there can be no spatial filtering since the trials cannot be compared\n",
    "def CSP(*tasks):\n",
    "\tif len(tasks) < 2:\n",
    "\t\tprint(\"Must have at least 2 tasks for filtering.\")\n",
    "\t\treturn (None,) * len(tasks)\n",
    "\telse:\n",
    "\t\tfilters = ()\n",
    "\t\t# CSP algorithm\n",
    "\t\t# For each task x, find the mean variances Rx and not_Rx, which will be used to compute spatial filter SFx\n",
    "\t\titerator = range(0,len(tasks))\n",
    "\t\tfor x in iterator:\n",
    "\t\t\t# Find Rx\n",
    "\t\t\tRx = covarianceMatrix(tasks[x][0])\n",
    "\n",
    "\t\t\tfor t in range(1,len(tasks[x])):\n",
    "\t\t\t\tRx += covarianceMatrix(tasks[x][t])\n",
    "\t\t\tRx = Rx / len(tasks[x])\n",
    "\n",
    "\t\t\t# Find not_Rx\n",
    "\t\t\tcount = 0\n",
    "\t\t\tnot_Rx = Rx * 0\n",
    "\t\t\tfor not_x in [element for element in iterator if element != x]:\n",
    "\t\t\t\tfor t in range(0,len(tasks[not_x])):\n",
    "\t\t\t\t\tnot_Rx += covarianceMatrix(tasks[not_x][t])\n",
    "\t\t\t\t\tcount += 1\n",
    "\t\t\tnot_Rx = not_Rx / count\n",
    "\n",
    "\t\t\t# Find the spatial filter SFx\n",
    "\t\t\tSFx = spatialFilter(Rx,not_Rx)\n",
    "\t\t\tfilters += (SFx,)\n",
    "\n",
    "\t\t\t# Special case: only two tasks, no need to compute any more mean variances\n",
    "\t\t\tif len(tasks) == 2:\n",
    "\t\t\t\tfilters += (spatialFilter(not_Rx,Rx),)\n",
    "\t\t\t\tbreak\n",
    "\t\treturn filters\n",
    "\n",
    "# covarianceMatrix takes a matrix A and returns the covariance matrix, scaled by the variance\n",
    "def covarianceMatrix(A):\n",
    "\tCa = np.dot(A,np.transpose(A))/np.trace(np.dot(A,np.transpose(A)))\n",
    "\treturn Ca\n",
    "\n",
    "# spatialFilter returns the spatial filter SFa for mean covariance matrices Ra and Rb\n",
    "def spatialFilter(Ra,Rb):\n",
    "\tR = Ra + Rb\n",
    "\tE,U = la.eig(R)\n",
    "\tbreakpoint()\n",
    "\t# CSP requires the eigenvalues E and eigenvector U be sorted in descending order\n",
    "\tord = np.argsort(E)\n",
    "\tord = ord[::-1] # argsort gives ascending order, flip to get descending\n",
    "\tE = E[ord]\n",
    "\tU = U[:,ord]\n",
    "\n",
    "\t# Find the whitening transformation matrix\n",
    "\tP = np.dot(np.sqrt(la.inv(np.diag(E))),np.transpose(U))\n",
    "\n",
    "\t# The mean covariance matrices may now be transformed\n",
    "\tSa = np.dot(P,np.dot(Ra,np.transpose(P)))\n",
    "\tSb = np.dot(P,np.dot(Rb,np.transpose(P)))\n",
    "\n",
    "\t# Find and sort the generalized eigenvalues and eigenvector\n",
    "\tE1,U1 = la.eig(Sa,Sb)\n",
    "\tord1 = np.argsort(E1)\n",
    "\tord1 = ord1[::-1]\n",
    "\tE1 = E1[ord1]\n",
    "\tU1 = U1[:,ord1]\n",
    "\n",
    "\t# The projection matrix (the spatial filter) may now be obtained\n",
    "\tSFa = np.dot(np.transpose(U1),P)\n",
    "\treturn SFa.astype(np.float32)"
   ]
  },
  {
   "cell_type": "code",
   "execution_count": null,
   "metadata": {
    "id": "XRZr2h6m_mjc"
   },
   "outputs": [],
   "source": [
    "'''Calculate the Band features for the entire data'''\n",
    "pain_data_train=[]\n",
    "nopain_data_train = []\n",
    "pain_data_test=[]\n",
    "nopain_data_test = []\n",
    "for index in tqdm.tqdm(range(len(h5files))):\n",
    "# for index in range(5,6):\n",
    "\n",
    "  dayX=h5files[index].split('_')[1] #dx where x \\in {2,3,4,5,6,7}\n",
    "  day_match = re.search(r'\\d+', dayX)\n",
    "  day = day_match.group() if day_match else None #gets the numeric value(x) in dx\n",
    "  matpath=os.path.join(path,h5files[index])\n",
    "  # print(matpath)\n",
    "  data_h5=hp.File(matpath,'r')\n",
    "  matrix = data_h5['neural_windows'][()]\n",
    "  trials = matrix.shape[0]\n",
    "  for j in range(trials):\n",
    "    ecog_data= matrix[j]\n",
    "    augmented_data=sliding_window_augmentation(ecog_data)\n",
    "    for subarrays in augmented_data:\n",
    "    # print(f'ecog data of trial {j}','\\n',ecog_data,'\\n','shape=',ecog_data.shape)\n",
    "      # data=calc_features_bandpower(subarrays)\n",
    "      data = PIB(subarrays)\n",
    "\n",
    "      if day=='4':\n",
    "        if labels[day][j]==0:\n",
    "          nopain_data_test.append(data)\n",
    "        else:\n",
    "          pain_data_test.append(data)\n",
    "\n",
    "\n",
    "      else:\n",
    "        if labels[day][j]==0:\n",
    "          nopain_data_train.append(data)\n",
    "        else:\n",
    "          pain_data_train.append(data)\n"
   ]
  },
  {
   "cell_type": "code",
   "execution_count": null,
   "metadata": {
    "id": "HGS4GnbdCYLs"
   },
   "outputs": [],
   "source": [
    "\n",
    "pain_data_train = np.array(pain_data_train)\n",
    "nopain_data_train = np.array(nopain_data_train)\n",
    "\n",
    "pain_data_test = np.array(pain_data_test)\n",
    "nopain_data_test = np.array(nopain_data_test)\n"
   ]
  },
  {
   "cell_type": "code",
   "execution_count": null,
   "metadata": {
    "colab": {
     "base_uri": "https://localhost:8080/"
    },
    "id": "d_hxURJPpdQV",
    "outputId": "436e5a00-f389-451d-ff3b-35801b5a64bd"
   },
   "outputs": [],
   "source": [
    "pain_data_train.shape"
   ]
  },
  {
   "cell_type": "code",
   "execution_count": null,
   "metadata": {
    "colab": {
     "base_uri": "https://localhost:8080/"
    },
    "id": "lK04Dw_hChp0",
    "outputId": "ffbc5b3e-ab2f-4ea5-ae93-18bc31c0fbd0"
   },
   "outputs": [],
   "source": [
    "csp_train_data=[]\n",
    "csp_test_data=[]\n",
    "for datas in range(pain_data_train.shape[0]):\n",
    "  csp = CSP(pain_data_train[datas].reshape(1,pain_data_train[datas].shape[0],pain_data_train[datas].shape[1]),nopain_data_train[datas].reshape(1,nopain_data_train[datas].shape[0],nopain_data_train[datas].shape[1]))\n",
    "  csp_train_data.append(list(csp))\n",
    "csp_train_data=np.array(csp_train_data)\n",
    "for datas in range(pain_data_test.shape[0]):\n",
    "  csp = CSP(pain_data_test[datas].reshape(1,pain_data_test[datas].shape[0],pain_data_test[datas].shape[1]),nopain_data_test[datas].reshape(1,nopain_data_test[datas].shape[0],nopain_data_test[datas].shape[1]))\n",
    "  csp_test_data.append(list(csp))\n",
    "csp_test_data=np.array(csp_test_data)"
   ]
  },
  {
   "cell_type": "code",
   "execution_count": null,
   "metadata": {
    "colab": {
     "base_uri": "https://localhost:8080/"
    },
    "id": "Oj9q_kYwYU3Q",
    "outputId": "8e8d7b50-f874-4b93-ba85-75e452f21028"
   },
   "outputs": [],
   "source": [
    "csp_train_data.shape"
   ]
  },
  {
   "cell_type": "code",
   "execution_count": null,
   "metadata": {
    "id": "wbHzBYozPvZ4"
   },
   "outputs": [],
   "source": [
    "validation_pain_csp = csp_test_data[:,0]\n",
    "validation_nopain_csp = csp_test_data[:,1]\n",
    "train_pain_csp = csp_train_data[:,0]\n",
    "train_nopain_csp = csp_train_data[:,1]"
   ]
  },
  {
   "cell_type": "code",
   "execution_count": null,
   "metadata": {
    "colab": {
     "base_uri": "https://localhost:8080/"
    },
    "id": "4vhyTjC0d0vF",
    "outputId": "b178e16f-4800-48fc-caaa-f79d328fdfe8"
   },
   "outputs": [],
   "source": [
    "pain_data_test.shape"
   ]
  },
  {
   "cell_type": "code",
   "execution_count": null,
   "metadata": {
    "id": "TR1ovCNOrZ5g"
   },
   "outputs": [],
   "source": [
    "validation_pain=[]\n",
    "validation_nopain=[]\n",
    "train_pain =[]\n",
    "train_nopain =[]\n",
    "\n",
    "\n",
    "csp_filters_transposed_validation_pain = np.transpose(validation_pain_csp, (0, 2, 1))\n",
    "\n",
    "# Apply CSP transformation\n",
    "validation_pain = np.matmul(np.transpose(pain_data_test,(0, 2, 1)), csp_filters_transposed_validation_pain)\n",
    "\n",
    "# Optionally, normalize the transformed data\n",
    "validation_pain_normalized = validation_pain / np.linalg.norm(validation_pain, axis=(1, 2), keepdims=True)\n",
    "\n",
    "\n",
    "\n",
    "\n",
    "\n",
    "csp_filters_transposed_validation_nopain = np.transpose(validation_nopain_csp, (0, 2, 1))\n",
    "\n",
    "# Apply CSP transformation\n",
    "validation_nopain = np.matmul(np.transpose(nopain_data_test,(0, 2, 1)), csp_filters_transposed_validation_nopain)\n",
    "\n",
    "# Optionally, normalize the transformed data\n",
    "validation_nopain_normalized = validation_nopain / np.linalg.norm(validation_nopain, axis=(1, 2), keepdims=True)\n",
    "\n",
    "\n",
    "\n",
    "\n",
    "\n",
    "csp_filters_transposed_train_pain = np.transpose(train_pain_csp, (0, 2, 1))\n",
    "\n",
    "# Apply CSP transformation\n",
    "train_pain = np.matmul(np.transpose(pain_data_train,(0, 2, 1)), csp_filters_transposed_train_pain)\n",
    "\n",
    "# Optionally, normalize the transformed data\n",
    "train_pain_normalized = train_pain / np.linalg.norm(train_pain, axis=(1, 2), keepdims=True)\n",
    "\n",
    "\n",
    "\n",
    "\n",
    "csp_filters_transposed_train_nopain = np.transpose(train_nopain_csp, (0, 2, 1))\n",
    "\n",
    "# Apply CSP transformation\n",
    "train_nopain = np.matmul(np.transpose(nopain_data_train,(0, 2, 1)), csp_filters_transposed_train_nopain)\n",
    "\n",
    "# Optionally, normalize the transformed data\n",
    "train_nopain_normalized = train_nopain / np.linalg.norm(train_nopain, axis=(1, 2), keepdims=True)"
   ]
  },
  {
   "cell_type": "code",
   "execution_count": null,
   "metadata": {
    "colab": {
     "base_uri": "https://localhost:8080/"
    },
    "id": "Yx5e4HgcuDQd",
    "outputId": "a9dcf21f-7a67-40a4-afd2-f124153f3595"
   },
   "outputs": [],
   "source": [
    "train_pain.shape"
   ]
  },
  {
   "cell_type": "code",
   "execution_count": null,
   "metadata": {
    "id": "hKa_gz1xP38v"
   },
   "outputs": [],
   "source": [
    "test_set = np.concatenate([validation_pain_normalized,validation_nopain_normalized])\n",
    "train_set = np.concatenate([train_pain_normalized, train_nopain_normalized])"
   ]
  },
  {
   "cell_type": "code",
   "execution_count": null,
   "metadata": {
    "colab": {
     "base_uri": "https://localhost:8080/"
    },
    "id": "pltvRYe9BX_9",
    "outputId": "6b98356b-09ae-4cc7-dd47-a76d67775058"
   },
   "outputs": [],
   "source": [
    "train_set.shape"
   ]
  },
  {
   "cell_type": "code",
   "execution_count": null,
   "metadata": {
    "id": "i9yBvtS3QikU"
   },
   "outputs": [],
   "source": [
    "y_test=np.concatenate([np.ones(validation_pain_normalized.shape[0]),np.zeros(validation_nopain_normalized.shape[0])])\n",
    "y_train = np.concatenate([np.ones(train_pain_normalized.shape[0]),np.zeros(train_nopain_normalized.shape[0])])"
   ]
  },
  {
   "cell_type": "code",
   "execution_count": null,
   "metadata": {
    "id": "Fvx3ofDMCCpL"
   },
   "outputs": [],
   "source": [
    "#Testing Null hypothesis (Optional)\n",
    "import random\n",
    "y_train_shuffled = np.array(random.sample(list(y_train), len(y_train)))"
   ]
  },
  {
   "cell_type": "code",
   "execution_count": null,
   "metadata": {
    "id": "SHDf7PN8Re_g"
   },
   "outputs": [],
   "source": [
    "from sklearn.discriminant_analysis import LinearDiscriminantAnalysis\n",
    "lda = LinearDiscriminantAnalysis()"
   ]
  },
  {
   "cell_type": "code",
   "execution_count": null,
   "metadata": {
    "id": "ybsygPR8UlNR"
   },
   "outputs": [],
   "source": [
    "train_set = train_set.reshape(train_set.shape[0],-1)"
   ]
  },
  {
   "cell_type": "code",
   "execution_count": null,
   "metadata": {
    "colab": {
     "base_uri": "https://localhost:8080/"
    },
    "id": "hna-W1XdBca8",
    "outputId": "0ae82e55-4e4f-4a41-8a29-3a759cdc56ae"
   },
   "outputs": [],
   "source": [
    "train_set.shape"
   ]
  },
  {
   "cell_type": "code",
   "execution_count": null,
   "metadata": {
    "id": "N2cx3ZVPu9wT"
   },
   "outputs": [],
   "source": [
    "test_set = test_set.reshape(test_set.shape[0],-1)"
   ]
  },
  {
   "cell_type": "code",
   "execution_count": null,
   "metadata": {
    "colab": {
     "base_uri": "https://localhost:8080/",
     "height": 74
    },
    "id": "3qaImS09Re9J",
    "outputId": "bf79b04b-5841-4bf3-ad62-3cff8705b76d"
   },
   "outputs": [],
   "source": [
    "lda.fit(train_set.reshape(train_set.shape[0],-1),y_train_shuffled)"
   ]
  },
  {
   "cell_type": "code",
   "execution_count": null,
   "metadata": {
    "colab": {
     "base_uri": "https://localhost:8080/"
    },
    "id": "KZjwuHvwkwjr",
    "outputId": "bc2b888e-5ad2-4b57-fb65-17e57df7daf1"
   },
   "outputs": [],
   "source": [
    "test_set.shape"
   ]
  },
  {
   "cell_type": "code",
   "execution_count": null,
   "metadata": {
    "colab": {
     "base_uri": "https://localhost:8080/"
    },
    "id": "F9G9H5Xmvqn8",
    "outputId": "b0b001d2-b7f3-4d74-c47a-ba91a0dd5f79"
   },
   "outputs": [],
   "source": [
    "train_set.shape"
   ]
  },
  {
   "cell_type": "code",
   "execution_count": null,
   "metadata": {
    "colab": {
     "base_uri": "https://localhost:8080/"
    },
    "id": "qQQa3i9eDwoF",
    "outputId": "9f7097a6-a37c-414a-ee56-4d0de6c0e2f8"
   },
   "outputs": [],
   "source": [
    "test_set.shape"
   ]
  },
  {
   "cell_type": "code",
   "execution_count": null,
   "metadata": {
    "id": "z2OxNgj8Re6z"
   },
   "outputs": [],
   "source": [
    "y_predict = lda.predict(test_set.reshape(test_set.shape[0],-1))"
   ]
  },
  {
   "cell_type": "code",
   "execution_count": null,
   "metadata": {
    "colab": {
     "base_uri": "https://localhost:8080/"
    },
    "id": "VHwXM40ZRe4t",
    "outputId": "6485d6ae-2b51-483b-d711-066aefca4e98"
   },
   "outputs": [],
   "source": [
    "y_test"
   ]
  },
  {
   "cell_type": "code",
   "execution_count": null,
   "metadata": {
    "colab": {
     "base_uri": "https://localhost:8080/"
    },
    "id": "zpA7ApB4sii8",
    "outputId": "50b1b393-34e1-4d3e-e8c5-05cfe10483fe"
   },
   "outputs": [],
   "source": [
    "y_predict"
   ]
  },
  {
   "cell_type": "code",
   "execution_count": null,
   "metadata": {
    "colab": {
     "base_uri": "https://localhost:8080/"
    },
    "id": "8vKIt8gOCpC5",
    "outputId": "892f8ac1-3754-4921-ea01-17516c905cf2"
   },
   "outputs": [],
   "source": [
    "#Null hypothesis prediction\n",
    "y_predict_nh = lda.predict(test_set.reshape(test_set.shape[0],-1))\n",
    "acc=0\n",
    "for elements in range(len(y_test)):\n",
    "  if y_test[elements]==y_predict_nh[elements]:\n",
    "    acc+=1\n",
    "print(\"accuracy is \",acc/len(y_test))"
   ]
  },
  {
   "cell_type": "code",
   "execution_count": null,
   "metadata": {
    "colab": {
     "base_uri": "https://localhost:8080/"
    },
    "id": "xwPOSJqKRe2q",
    "outputId": "a3c4757c-2b4d-480f-9b6d-ca4cad26fdd4"
   },
   "outputs": [],
   "source": [
    "acc=0\n",
    "for elements in range(len(y_test)):\n",
    "  if y_test[elements]==y_predict[elements]:\n",
    "    acc+=1\n",
    "print(\"accuracy is \",acc/len(y_test))"
   ]
  },
  {
   "cell_type": "markdown",
   "metadata": {
    "id": "f5SqFEP80P6Y"
   },
   "source": [
    "Trying out with LSTM"
   ]
  },
  {
   "cell_type": "code",
   "execution_count": null,
   "metadata": {
    "id": "Ru4AHm4gqXGi"
   },
   "outputs": [],
   "source": [
    "from keras.models import Sequential\n",
    "from keras.layers import LSTM, Dense, Dropout, BatchNormalization\n",
    "from keras.layers import Conv1D, MaxPooling1D, Activation, Flatten\n",
    "from keras.utils import to_categorical\n",
    "import numpy as np\n",
    "import h5py\n",
    "import matplotlib.pyplot as plt\n",
    "from sklearn import preprocessing"
   ]
  },
  {
   "cell_type": "code",
   "execution_count": null,
   "metadata": {
    "id": "Y6bdNnLByiWV"
   },
   "outputs": [],
   "source": [
    "num_classes=2\n",
    "\n",
    "N_train, T_train, C_train = train_set.shape\n",
    "N_test, T_test, C_test = test_set.shape\n",
    "\n",
    "# add dummy zeros for y classification, convert class vectors to binary class matrices.\n",
    "y_train = to_categorical(y_train, num_classes)\n",
    "y_test = to_categorical(y_test, num_classes)"
   ]
  },
  {
   "cell_type": "code",
   "execution_count": null,
   "metadata": {
    "colab": {
     "base_uri": "https://localhost:8080/"
    },
    "id": "hHinfHeFy4DR",
    "outputId": "328eee50-028d-4671-ba07-5e658b0a1b02"
   },
   "outputs": [],
   "source": [
    "sampling = 1\n",
    "\n",
    "X_train = train_set.reshape(N_train,int(T_train/sampling), sampling, C_train)[:,:,0,:]\n",
    "X_test = test_set.reshape(N_test,int(T_test/sampling), sampling, C_test)[:,:,0,:]\n",
    "\n",
    "# get new data dimension\n",
    "N_train, T_train, C_train = X_train.shape\n",
    "N_test, T_test, C_test = X_test.shape\n",
    "\n",
    "print('X_train: ', X_train.shape)\n",
    "print('y_train: ', y_train.shape)\n",
    "\n",
    "print('X_test: ', X_test.shape)\n",
    "print('y_test: ', y_test.shape)"
   ]
  },
  {
   "cell_type": "code",
   "execution_count": null,
   "metadata": {
    "id": "pHgI7shMzFCh"
   },
   "outputs": [],
   "source": [
    "# Expected input batch shape: (batch_size, timesteps, data_dim)\n",
    "# Note that we have to provide the full batch_input_shape since the network is stateful.\n",
    "# the sample of index i in batch k is the follow-up for the sample i in batch k-1.\n",
    "\n",
    "# perhaps should try masking layer\n",
    "\n",
    "data_dim = C_train\n",
    "timesteps = T_train\n",
    "batch_size = 8\n",
    "num_epoch = 20\n",
    "\n",
    "# make a sequential model\n",
    "model = Sequential()\n",
    "\n",
    "# add 1-layer cnn\n",
    "model.add(Conv1D(4, kernel_size=20, strides=4,\n",
    "          input_shape=(timesteps, data_dim)))\n",
    "model.add(Activation('relu'))\n",
    "# model.add(Dropout(0.5))\n",
    "model.add(BatchNormalization())\n",
    "model.add(MaxPooling1D(pool_size=4, strides=4))\n",
    "\n",
    "\n",
    "# add 2-layer lstm\n",
    "model.add(LSTM(30, return_sequences=True, stateful=False))\n",
    "# model.add(Dropout(0.5))\n",
    "model.add(BatchNormalization())\n",
    "model.add(LSTM(20, return_sequences=True, stateful=False))\n",
    "# model.add(Dropout(0.5))\n",
    "model.add(BatchNormalization())\n",
    "model.add(Flatten())\n",
    "model.add(Dense(num_classes, activation='sigmoid'))\n",
    "\n",
    "# set loss function and optimizer\n",
    "model.compile(loss='binary_crossentropy',\n",
    "              optimizer='SGD',\n",
    "              metrics=['accuracy'])"
   ]
  },
  {
   "cell_type": "code",
   "execution_count": null,
   "metadata": {
    "colab": {
     "base_uri": "https://localhost:8080/"
    },
    "id": "02C_7Hg0zOcN",
    "outputId": "97d4df22-d0d7-4f56-f63c-0059a68faa8c"
   },
   "outputs": [],
   "source": [
    "history = model.fit(X_train, y_train,\n",
    "                    batch_size=batch_size,\n",
    "                    epochs=num_epoch,\n",
    "                    shuffle=False,\n",
    "                    validation_data=(X_test, y_test))"
   ]
  },
  {
   "cell_type": "code",
   "execution_count": null,
   "metadata": {
    "colab": {
     "base_uri": "https://localhost:8080/"
    },
    "id": "On2dOl8rzay9",
    "outputId": "e1433875-2a88-4bc4-cc4b-da1a655c235d"
   },
   "outputs": [],
   "source": [
    "model.evaluate(X_test,y_test,batch_size=N_test)"
   ]
  },
  {
   "cell_type": "code",
   "execution_count": null,
   "metadata": {
    "colab": {
     "base_uri": "https://localhost:8080/",
     "height": 944
    },
    "id": "Grg7jwBT22Ay",
    "outputId": "dfbb6ed8-60dc-40bb-92d9-5d069e3ae8b0"
   },
   "outputs": [],
   "source": [
    "print(history.history.keys())\n",
    "\n",
    "# summarize history for accuracy\n",
    "plt.plot(history.history['accuracy'])\n",
    "plt.plot(history.history['val_accuracy'])\n",
    "plt.title('model accuracy')\n",
    "plt.ylabel('accuracy')\n",
    "plt.xlabel('epoch')\n",
    "plt.legend(['train', 'val'], loc='upper left')\n",
    "plt.show()\n",
    "\n",
    "# summarize history for loss\n",
    "plt.plot(history.history['loss'],'o')\n",
    "plt.plot(history.history['val_loss'],'o')\n",
    "plt.title('model loss')\n",
    "plt.ylabel('loss')\n",
    "plt.xlabel('epoch')\n",
    "plt.legend(['train', 'val'], loc='upper left')\n",
    "plt.show()"
   ]
  },
  {
   "cell_type": "markdown",
   "metadata": {
    "id": "cgD__7RUm5uz"
   },
   "source": [
    "Visualizing the two channels of ECoG data before and after applying spatial filtering"
   ]
  },
  {
   "cell_type": "code",
   "execution_count": null,
   "metadata": {
    "id": "dxWm2d6Om5Yc"
   },
   "outputs": [],
   "source": [
    "pain_after_csp = train_pain[0][:,:2].T\n",
    "nopain_after_csp = train_nopain[0][:,:2].T\n",
    "\n",
    "pain_before_csp = pain_data_train[0].T[:,:2].T\n",
    "nopain_before_csp = nopain_data_train[0].T[:,:2].T"
   ]
  },
  {
   "cell_type": "code",
   "execution_count": null,
   "metadata": {
    "colab": {
     "base_uri": "https://localhost:8080/",
     "height": 889
    },
    "id": "agMnyd9fvAGs",
    "outputId": "34a8e2b2-50de-48bf-a263-bfd280cd19ec"
   },
   "outputs": [],
   "source": [
    "import matplotlib.pyplot as plt\n",
    "import math\n",
    "fig, ax = plt.subplots(figsize=(10, 10))\n",
    "ax.scatter(pain_before_csp[0], pain_before_csp[1], c='b', s=10.0, alpha=0.8, label=\"Pain data \")\n",
    "ax.scatter(nopain_before_csp[0], nopain_before_csp[1], c='r', s=10.0, alpha=0.8, label=\"No Pain data \")\n",
    "\n",
    "ax.grid()\n",
    "ax.set_title('Before CSP')\n",
    "ax.set_xlabel('Channel 1')\n",
    "ax.set_ylabel('Channel 2')\n",
    "ax.legend(loc = 0)\n",
    "ax.set_xlim([0,1*math.pow(10,-5)])\n",
    "ax.set_ylim([0,0.5*math.pow(10,-5)])"
   ]
  },
  {
   "cell_type": "code",
   "execution_count": null,
   "metadata": {
    "colab": {
     "base_uri": "https://localhost:8080/",
     "height": 889
    },
    "id": "o89iovR4w0Iq",
    "outputId": "70fc29b0-5abf-4db1-e1db-49ae4078896d"
   },
   "outputs": [],
   "source": [
    "import matplotlib.pyplot as plt\n",
    "import math\n",
    "fig, ax = plt.subplots(figsize=(10, 10))\n",
    "ax.scatter(pain_after_csp[0], pain_after_csp[1], c='b', s=10.0, alpha=0.8, label=\"Pain data \")\n",
    "ax.scatter(nopain_after_csp[0], nopain_after_csp[1], c='r', s=10.0, alpha=0.8, label=\"No Pain data \")\n",
    "\n",
    "ax.grid()\n",
    "ax.set_title('After CSP')\n",
    "ax.set_xlabel('Channel 1')\n",
    "ax.set_ylabel('Channel 2')\n",
    "ax.legend(loc = 0)\n"
   ]
  },
  {
   "cell_type": "markdown",
   "metadata": {
    "id": "VnsBt376xRfc"
   },
   "source": [
    "# **These plots doesn't make sense. Instead try focusing on a specific band and then plot CSP plots for that band**"
   ]
  },
  {
   "cell_type": "code",
   "execution_count": null,
   "metadata": {
    "id": "pu5p3Eok6P9g"
   },
   "outputs": [],
   "source": [
    "from scipy import signal\n",
    "from scipy.stats import zscore\n",
    "\n",
    "def filtering_and_downsample(data_ecog, downsample_factor=5):\n",
    "    sos_delta = signal.butter(2, [0.1, 4], btype='bandpass', analog=False, output='sos', fs=500)\n",
    "    sos_theta = signal.butter(2, [4, 8], btype='bandpass', analog=False, output='sos', fs=500)\n",
    "    sos_alpha = signal.butter(2, [8, 13], btype='bandpass', analog=False, output='sos', fs=500)\n",
    "    sos_beta = signal.butter(2, [13, 30], btype='bandpass', analog=False, output='sos', fs=500)\n",
    "    sos_gamma = signal.butter(2, [30, 60], btype='bandpass', analog=False, output='sos', fs=500)\n",
    "    sos_highgamma = signal.butter(2, [60, 200], btype='bandpass', analog=False, output='sos', fs=500)\n",
    "\n",
    "    delta_filter = signal.sosfilt(sos_delta, data_ecog)\n",
    "    theta_filter = signal.sosfilt(sos_theta, data_ecog)\n",
    "    alpha_filter = signal.sosfilt(sos_alpha, data_ecog)\n",
    "    beta_filter = signal.sosfilt(sos_beta, data_ecog)\n",
    "    gamma_filter = signal.sosfilt(sos_gamma, data_ecog)\n",
    "    highgamma_filter =signal.sosfilt(sos_highgamma, data_ecog)\n",
    "\n",
    "\n",
    "    # Downsample each filtered signal and zscore values\n",
    "\n",
    "    delta_downsampled = zscore(signal.decimate(delta_filter, downsample_factor),axis=0)\n",
    "    theta_downsampled = zscore(signal.decimate(theta_filter, downsample_factor),axis=0)\n",
    "    alpha_downsampled = zscore(signal.decimate(alpha_filter, downsample_factor),axis=0)\n",
    "    beta_downsampled = zscore(signal.decimate(beta_filter, downsample_factor),axis=0)\n",
    "    gamma_downsampled = zscore(signal.decimate(gamma_filter, downsample_factor),axis=0)\n",
    "    highgamma_downsampled = zscore(signal.decimate(highgamma_filter, downsample_factor),axis=0)\n",
    "\n",
    "    return [delta_downsampled, theta_downsampled, alpha_downsampled, beta_downsampled, gamma_downsampled, highgamma_downsampled]\n"
   ]
  },
  {
   "cell_type": "code",
   "execution_count": null,
   "metadata": {
    "id": "tmU-mVqUxYTv"
   },
   "outputs": [],
   "source": [
    "#Load the high pain data. #day 2 trial 2\n",
    "highpain_path=os.path.join(path,h5files[0])\n",
    "# print(matpath)\n",
    "data_h5_high=hp.File(highpain_path,'r')\n",
    "highpain_data = data_h5_high['neural_windows'][()][1]\n",
    "\n",
    "#Load the low pain data. #day 5 trial 2\n",
    "lowpain_path=os.path.join(path,h5files[3])\n",
    "# print(matpath)\n",
    "data_h5_low=hp.File(lowpain_path,'r')\n",
    "lowpain_data = data_h5_low['neural_windows'][()][1]"
   ]
  },
  {
   "cell_type": "code",
   "execution_count": null,
   "metadata": {
    "id": "lIsIDef63Csd"
   },
   "outputs": [],
   "source": [
    "delta_filter_high,theta_filter_high,alpha_filter_high,beta_filter_high,gamma_filter_high,highgamma_filter_high = filtering_and_downsample(highpain_data)\n",
    "delta_filter_low,theta_filter_low,alpha_filter_low,beta_filter_low,gamma_filter_low,highgamma_filter_low = filtering_and_downsample(lowpain_data)"
   ]
  },
  {
   "cell_type": "code",
   "execution_count": null,
   "metadata": {
    "colab": {
     "base_uri": "https://localhost:8080/"
    },
    "id": "wZk1rUhC6z9I",
    "outputId": "9c86a78b-312b-464c-98be-adc06826c202"
   },
   "outputs": [],
   "source": [
    "delta_filter_high.shape"
   ]
  },
  {
   "cell_type": "markdown",
   "metadata": {
    "id": "KEdx6y2G5S_-"
   },
   "source": [
    "Let us first concentrate on delta band\n"
   ]
  },
  {
   "cell_type": "markdown",
   "metadata": {
    "id": "hCQ6TLJS5ttL"
   },
   "source": [
    "focusing on the Channel 1 and Channel 2 gives this before applying CSP"
   ]
  },
  {
   "cell_type": "code",
   "execution_count": null,
   "metadata": {
    "colab": {
     "base_uri": "https://localhost:8080/",
     "height": 889
    },
    "id": "62DnB2Gx47uv",
    "outputId": "317b125a-dc3a-42c4-98b9-dd1537601f34"
   },
   "outputs": [],
   "source": [
    "import matplotlib.pyplot as plt\n",
    "import math\n",
    "fig, ax = plt.subplots(figsize=(10, 10))\n",
    "ax.scatter(delta_filter_high[0], delta_filter_high[1], c='b', s=10.0, alpha=0.8, label=\"Pain data \")\n",
    "ax.scatter(delta_filter_low[0], delta_filter_low[1], c='r', s=10.0, alpha=0.8, label=\"No Pain data \")\n",
    "\n",
    "ax.grid()\n",
    "ax.set_title('Before CSP')\n",
    "ax.set_xlabel('Channel 1')\n",
    "ax.set_ylabel('Channel 2')\n",
    "ax.legend(loc = 0)"
   ]
  },
  {
   "cell_type": "markdown",
   "metadata": {
    "id": "aptjDM5i8wn5"
   },
   "source": [
    "Now let us apply CSP and then check"
   ]
  },
  {
   "cell_type": "code",
   "execution_count": null,
   "metadata": {
    "colab": {
     "base_uri": "https://localhost:8080/"
    },
    "id": "uR2MYE8V8LIz",
    "outputId": "aba5018b-50dc-4170-964b-500cc5554a42"
   },
   "outputs": [],
   "source": [
    "csp=np.array(CSP(delta_filter_high.reshape(1,delta_filter_high.shape[0],delta_filter_high.shape[1]),delta_filter_low.reshape(1,delta_filter_low.shape[0],delta_filter_low.shape[1])))\n",
    "pain_csp,nopain_csp = np.transpose(csp[0],(1,0)),np.transpose(csp[1],(1,0))\n",
    "\n",
    "pain_delta_after_csp = np.matmul(np.transpose(delta_filter_high,(1,0)),pain_csp).T\n",
    "nopain_delta_after_csp = np.matmul(np.transpose(delta_filter_low,(1,0)),nopain_csp).T\n"
   ]
  },
  {
   "cell_type": "markdown",
   "metadata": {
    "id": "ZBzx7Hl1-0Ao"
   },
   "source": [
    "Now let us plot the csp values"
   ]
  },
  {
   "cell_type": "code",
   "execution_count": null,
   "metadata": {
    "colab": {
     "base_uri": "https://localhost:8080/",
     "height": 889
    },
    "id": "hUEKQ3AG-2wM",
    "outputId": "ec65f9d2-9391-4659-b6fc-9a450d9c2029"
   },
   "outputs": [],
   "source": [
    "import matplotlib.pyplot as plt\n",
    "import math\n",
    "fig, ax = plt.subplots(figsize=(10, 10))\n",
    "ax.scatter(pain_delta_after_csp[0], pain_delta_after_csp[1], c='b', s=10.0, alpha=0.8, label=\"Pain data \")\n",
    "ax.scatter(nopain_delta_after_csp[0], nopain_delta_after_csp[1], c='r', s=10.0, alpha=0.8, label=\"No Pain data \")\n",
    "\n",
    "ax.grid()\n",
    "ax.set_title('After CSP')\n",
    "ax.set_xlabel('Channel 1')\n",
    "ax.set_ylabel('Channel 2')\n",
    "ax.legend(loc = 0)"
   ]
  },
  {
   "cell_type": "markdown",
   "metadata": {
    "id": "2xz9LRSWMobu"
   },
   "source": [
    "Making a generalzied version of the functions"
   ]
  },
  {
   "cell_type": "code",
   "execution_count": null,
   "metadata": {
    "id": "Z0vSRk1vMoA6"
   },
   "outputs": [],
   "source": [
    "import matplotlib.pyplot as plt\n",
    "import math\n",
    "def plot_features(data_high,data_low,choice,chx,chy,feature_names):\n",
    "  fig, ax = plt.subplots(figsize=(5,5))\n",
    "  ax.scatter(data_high[chx][::10], data_high[chy][::10], c='b', s=15.0, alpha=0.4, label=\"Pain data \") #remove the step size\n",
    "  ax.scatter(data_low[chx][::10], data_low[chy][::10], c='r', s=15.0, alpha=0.4, label=\"No Pain data \")#remove the step size\n",
    "\n",
    "  ax.grid()\n",
    "  ax.set_title(choice)\n",
    "  ax.set_xlabel(f'Channel {feature_names[chx]}')\n",
    "  ax.set_ylabel(f'Channel {feature_names[chy]}')\n",
    "  ax.legend(loc = 0)\n",
    "\n",
    "\n",
    "def csp_cal_appply(data_high, data_low):\n",
    "  csp=np.array(CSP(data_high.reshape(1,data_high.shape[0],data_high.shape[1]),data_low.reshape(1,data_low.shape[0],data_low.shape[1])))\n",
    "  pain_csp,nopain_csp = np.transpose(csp[0],(1,0)),np.transpose(csp[1],(1,0))\n",
    "\n",
    "  pain_data_after_csp = np.matmul(np.transpose(data_high,(1,0)),pain_csp).T\n",
    "  nopain_data_after_csp = np.matmul(np.transpose(data_low,(1,0)),nopain_csp).T\n",
    "  return [pain_data_after_csp,nopain_data_after_csp]"
   ]
  },
  {
   "cell_type": "markdown",
   "metadata": {
    "id": "DRWB6p8YNuhT"
   },
   "source": [
    "Let us try with theta band"
   ]
  },
  {
   "cell_type": "code",
   "execution_count": null,
   "metadata": {
    "colab": {
     "base_uri": "https://localhost:8080/",
     "height": 292
    },
    "id": "byL8MMVaQCjj",
    "outputId": "8b7468ec-ec2b-4d90-b35d-90a0e022e847"
   },
   "outputs": [],
   "source": [
    "nopain_bands = [delta_filter_low,theta_filter_low,alpha_filter_low,beta_filter_low,gamma_filter_low,highgamma_filter_low]\n",
    "pain_bands = [delta_filter_high,theta_filter_high,alpha_filter_high,beta_filter_high,gamma_filter_high,highgamma_filter_high]\n",
    "feature_names= data_h5_high['channels']\n",
    "pain_band = gamma_filter_low\n",
    "nopain_band = gamma_filter_high\n",
    "def combined_function(pain_band, nopain_band):\n",
    "  plot_features(pain_band,nopain_band,'Before CSP',0, 1,feature_names)\n",
    "  pain_csp, nopain_csp = csp_cal_appply(pain_band,nopain_band)\n",
    "  plot_features(pain_csp,nopain_csp,'After CSP',0, 1,feature_names)\n",
    "\n",
    "combined_function(pain_band, nopain_band)"
   ]
  },
  {
   "cell_type": "code",
   "execution_count": null,
   "metadata": {
    "id": "Hc63XnwuRCgO"
   },
   "outputs": [],
   "source": [
    "\n",
    "\n",
    "# zscored = zscore(a,axis=None)"
   ]
  },
  {
   "cell_type": "code",
   "execution_count": null,
   "metadata": {
    "colab": {
     "base_uri": "https://localhost:8080/"
    },
    "id": "-yXL-C1L3wRK",
    "outputId": "112fd774-14bd-4522-bd10-6b6d71ec19e1"
   },
   "outputs": [],
   "source": []
  },
  {
   "cell_type": "code",
   "execution_count": null,
   "metadata": {
    "colab": {
     "base_uri": "https://localhost:8080/"
    },
    "id": "QmHQMgTp31qL",
    "outputId": "a91e5d94-e9cd-465d-c00a-e7d3dea0b286"
   },
   "outputs": [],
   "source": [
    "a=np.array([[1,2,3,4],[1,2,3,4],[1,2,3,4]])\n",
    "zscore(a,axis=1)"
   ]
  },
  {
   "cell_type": "code",
   "execution_count": null,
   "metadata": {
    "colab": {
     "base_uri": "https://localhost:8080/"
    },
    "id": "CpeQE2fDJUz4",
    "outputId": "30471bc1-885c-44a2-8e9d-58f41a7c185b"
   },
   "outputs": [],
   "source": [
    "data_h5_high.keys()"
   ]
  },
  {
   "cell_type": "code",
   "execution_count": null,
   "metadata": {
    "colab": {
     "base_uri": "https://localhost:8080/"
    },
    "id": "60A4Oknq7dnw",
    "outputId": "0199f162-d754-4b55-85ad-32d9d667ac38"
   },
   "outputs": [],
   "source": [
    "data_h5_high['channels'][()]"
   ]
  },
  {
   "cell_type": "code",
   "execution_count": null,
   "metadata": {
    "id": "0reF3f9TJQIH"
   },
   "outputs": [],
   "source": [
    "indices = [i for i in range(len(data_h5_high['channels'])) if data_h5_high['channels'][i] in [b'RHH8', b'ROF6', b'LHH6', b'RPCC16', b'RHH6', b'LOF6', b'RA12', b'RA7', b'RACC8', b'LACCS6']]\n"
   ]
  },
  {
   "cell_type": "code",
   "execution_count": null,
   "metadata": {
    "colab": {
     "base_uri": "https://localhost:8080/"
    },
    "id": "lsQgrNfPdCZY",
    "outputId": "54053148-6558-400f-8110-8c6df3943a34"
   },
   "outputs": [],
   "source": [
    "data_h5_high['channels'][indices]"
   ]
  },
  {
   "cell_type": "code",
   "execution_count": null,
   "metadata": {
    "colab": {
     "base_uri": "https://localhost:8080/"
    },
    "id": "zplsaFete-MD",
    "outputId": "c7c0ceac-91c3-4d72-f427-497f0ecbba84"
   },
   "outputs": [],
   "source": [
    "indices"
   ]
  },
  {
   "cell_type": "code",
   "execution_count": null,
   "metadata": {
    "colab": {
     "base_uri": "https://localhost:8080/"
    },
    "id": "xuuynqqkcVtL",
    "outputId": "783dc70d-814e-4f58-e4fa-0b581c0ec714"
   },
   "outputs": [],
   "source": [
    "b'LFUSI2' in data_h5_high['channels']"
   ]
  },
  {
   "cell_type": "markdown",
   "metadata": {
    "id": "jXeT0IeAuNLq"
   },
   "source": [
    "3d plot\n"
   ]
  },
  {
   "cell_type": "code",
   "execution_count": null,
   "metadata": {
    "id": "cNAsxGnme5zP"
   },
   "outputs": [],
   "source": [
    "import matplotlib.pyplot as plt\n",
    "import math\n",
    "import pdb\n",
    "# def plot_features(data_high,data_low,choice,ind,chy,feature_names):\n",
    "#   fig, ax = plt.subplots(figsize=(5,5))\n",
    "#   # fig, ax = plt.subplots(10, 2, figsize=(15, 30))\n",
    "#   for channels in ind:\n",
    "#     # breakpoint()\n",
    "#     ax.scatter(data_high[channels][::10], data_high[chy][::10], c='b', s=15.0, alpha=0.4, label=\"Pain data \") #remove the step size\n",
    "#     ax.scatter(data_low[channels][::10], data_low[chy][::10], c='r', s=15.0, alpha=0.4, label=\"No Pain data \")#remove the step size\n",
    "\n",
    "#     ax.grid()\n",
    "#     ax.set_title(choice)\n",
    "#     ax.set_xlabel(f'Channel {feature_names[channels]}')\n",
    "#     ax.set_ylabel(f'Channel {feature_names[chy]}')\n",
    "#     ax.legend(loc = 0)\n",
    "def plot_features(data_high, data_low, choice, ind, feature_names):\n",
    "    fig, axs = plt.subplots(10, 10, figsize=(40, 40))\n",
    "    for i, channels in enumerate(ind):\n",
    "        for j, chy in enumerate(ind):\n",
    "            ax = axs[i, j]\n",
    "            ax.scatter(data_high[channels][::10], data_high[chy][::10], c='b', s=15.0, alpha=0.4, label=\"Pain data\")\n",
    "            ax.scatter(data_low[channels][::10], data_low[chy][::10], c='r', s=15.0, alpha=0.4, label=\"No Pain data\")\n",
    "            ax.grid()\n",
    "            ax.set_xlabel(f'Channel {feature_names[channels]}')\n",
    "            ax.set_ylabel(f'Channel {feature_names[chy]}')\n",
    "            ax.legend()\n",
    "\n",
    "    plt.tight_layout()\n",
    "    plt.show()\n",
    "\n",
    "\n",
    "def csp_cal_appply(data_high, data_low):\n",
    "  csp=np.array(CSP(data_high.reshape(1,data_high.shape[0],data_high.shape[1]),data_low.reshape(1,data_low.shape[0],data_low.shape[1])))\n",
    "  pain_csp,nopain_csp = np.transpose(csp[0],(1,0)),np.transpose(csp[1],(1,0))\n",
    "\n",
    "  pain_data_after_csp = np.matmul(np.transpose(data_high,(1,0)),pain_csp).T\n",
    "  nopain_data_after_csp = np.matmul(np.transpose(data_low,(1,0)),nopain_csp).T\n",
    "  return [pain_data_after_csp,nopain_data_after_csp]"
   ]
  },
  {
   "cell_type": "code",
   "execution_count": null,
   "metadata": {
    "colab": {
     "base_uri": "https://localhost:8080/"
    },
    "id": "DqUt38ylRqNJ",
    "outputId": "782dcf86-9446-4ad5-ee6a-86f5ba3bf05e"
   },
   "outputs": [],
   "source": [
    "!pip install pdfpages"
   ]
  },
  {
   "cell_type": "code",
   "execution_count": null,
   "metadata": {
    "colab": {
     "background_save": true,
     "base_uri": "https://localhost:8080/",
     "height": 1000
    },
    "id": "_hVts_wZuOZ5",
    "outputId": "40e833fb-8f43-40bb-83d2-8b9aaff42e14"
   },
   "outputs": [],
   "source": [
    "from matplotlib.backends.backend_pdf import PdfPages\n",
    "# from Pdfpages import PdfPages\n",
    "\n",
    "nopain_bands = [delta_filter_low,theta_filter_low,alpha_filter_low,beta_filter_low,gamma_filter_low,highgamma_filter_low]\n",
    "nopain_bands_names = [\"delta_filter\",\"theta_filter\",\"alpha_filter\",\"beta_filter\",\"gamma_filter\",\"highgamma_filter\"]\n",
    "pain_bands = [delta_filter_high,theta_filter_high,alpha_filter_high,beta_filter_high,gamma_filter_high,highgamma_filter_high]\n",
    "feature_names= data_h5_high['channels']\n",
    "pain_band = beta_filter_high\n",
    "# nopain_band = beta_filter_low\n",
    "indices = indices = [i for i in range(len(data_h5_high['channels'])) if data_h5_high['channels'][i] in [b'RHH8', b'ROF6', b'LHH6', b'RPCC16', b'RHH6', b'LOF6', b'RA12', b'RA7', b'RACC8', b'LACCS6']]\n",
    "\n",
    "def combined_function(pain_band, nopain_band,indices):\n",
    "  for nopain_band in range(len(nopain_bands)):\n",
    "    print(\"No pain band = \",nopain_bands_names[nopain_band])\n",
    "    print(\"Pain band =beta_filter_high\")\n",
    "    print(\"Before CSP\")\n",
    "    plot_features(pain_band,nopain_bands[nopain_band],'Before CSP',indices,feature_names)\n",
    "    # pdf.savefig(fig1)\n",
    "    pain_csp, nopain_csp = csp_cal_appply(pain_band,nopain_bands[nopain_band])\n",
    "    print(\"After CSP\")\n",
    "    plot_features(pain_csp,nopain_csp,'After CSP',indices,feature_names)\n",
    "    # pdf.savefig(fig2)\n",
    "\n",
    "combined_function(pain_band, nopain_bands,indices)\n",
    "# pdf_filename = \"axis1.pdf\"\n",
    "# with PdfPages(pdf_filename) as pdf:\n",
    "#     combined_function(pain_band, nopain_bands, indices, pdf)"
   ]
  },
  {
   "cell_type": "code",
   "execution_count": null,
   "metadata": {
    "colab": {
     "background_save": true,
     "base_uri": "https://localhost:8080/",
     "height": 1000
    },
    "id": "eg6QWcyriaEp",
    "outputId": "011cf6ba-68f9-43ed-b5b3-c8a0c9771364"
   },
   "outputs": [],
   "source": [
    "from matplotlib.backends.backend_pdf import PdfPages\n",
    "# from Pdfpages import PdfPages\n",
    "\n",
    "nopain_bands = [delta_filter_low,theta_filter_low,alpha_filter_low,beta_filter_low,gamma_filter_low,highgamma_filter_low]\n",
    "nopain_bands_names = [\"delta_filter\",\"theta_filter\",\"alpha_filter\",\"beta_filter\",\"gamma_filter\",\"highgamma_filter\"]\n",
    "pain_bands = [delta_filter_high,theta_filter_high,alpha_filter_high,beta_filter_high,gamma_filter_high,highgamma_filter_high]\n",
    "feature_names= data_h5_high['channels']\n",
    "pain_band = beta_filter_high\n",
    "# nopain_band = beta_filter_low\n",
    "indices = indices = [i for i in range(len(data_h5_high['channels'])) if data_h5_high['channels'][i] in [b'RHH8', b'ROF6', b'LHH6', b'RPCC16', b'RHH6', b'LOF6', b'RA12', b'RA7', b'RACC8', b'LACCS6']]\n",
    "\n",
    "def combined_function(pain_band, nopain_band,indices):\n",
    "  for nopain_band in range(len(nopain_bands)):\n",
    "    print(\"No pain band = \",nopain_bands_names[nopain_band])\n",
    "    print(\"Pain band =beta_filter_high\")\n",
    "    print(\"Before CSP\")\n",
    "    plot_features(pain_band,nopain_bands[nopain_band],'Before CSP',indices,feature_names)\n",
    "    # pdf.savefig(fig1)\n",
    "    pain_csp, nopain_csp = csp_cal_appply(pain_band,nopain_bands[nopain_band])\n",
    "    print(\"After CSP\")\n",
    "    plot_features(pain_csp,nopain_csp,'After CSP',indices,feature_names)\n",
    "    # pdf.savefig(fig2)\n",
    "\n",
    "combined_function(pain_band, nopain_bands,indices)\n",
    "# pdf_filename = \"axis1.pdf\"\n",
    "# with PdfPages(pdf_filename) as pdf:\n",
    "#     combined_function(pain_band, nopain_bands, indices, pdf)"
   ]
  },
  {
   "cell_type": "code",
   "execution_count": null,
   "metadata": {
    "colab": {
     "base_uri": "https://localhost:8080/"
    },
    "id": "5TPpoUnIUUYd",
    "outputId": "139a741d-3a7d-4130-bbc9-5d2586a8e4cf"
   },
   "outputs": [],
   "source": [
    "# Performing PCA\n",
    "explained_ratio=[]\n",
    "from sklearn.decomposition import PCA\n",
    "nopain_bands = [delta_filter_low,theta_filter_low,alpha_filter_low,beta_filter_low,gamma_filter_low,highgamma_filter_low]\n",
    "pain_bands = [delta_filter_high,theta_filter_high,alpha_filter_high,beta_filter_high,gamma_filter_high,highgamma_filter_high]\n",
    "n_comp=197\n",
    "for things in pain_bands+nopain_bands:\n",
    "  filter = things\n",
    "  # print(filter.shape)\n",
    "  pca = PCA(n_components=n_comp)\n",
    "  pca.fit(filter)\n",
    "  explained_ratio.append((np.sum(pca.explained_variance_ratio_)))\n",
    "print(f\"Average of the variance explained in all the bands by {n_comp} components is \", np.mean(explained_ratio))\n",
    "\n",
    "\n",
    "\n",
    "\n"
   ]
  },
  {
   "cell_type": "code",
   "execution_count": null,
   "metadata": {
    "id": "x3CC7ZzQguAo"
   },
   "outputs": [],
   "source": [
    "# np.linalg.matrix_rank(delta_filter_low)\n",
    "# In the original data, after computing the Instantaneous band power, the rank of the matrix is 197 which means that 1 channel is redundant hence, we can perform PCA to 197 to eliminate the redundancy\n",
    "#Reducing the number of samples of the channel\n",
    "from sklearn.decomposition import PCA\n",
    "nopain_bands_copy = {\"delta_filter_low\":delta_filter_low.copy(),\"theta_filter_low\":theta_filter_low.copy(),\"alpha_filter_low\":alpha_filter_low.copy(),\"beta_filter_low\":beta_filter_low.copy(),\"gamma_filter_low\":gamma_filter_low.copy()}\n",
    "pain_bands_copy = {\"delta_filter_high\":delta_filter_high.copy(),\"theta_filter_high\":theta_filter_high.copy(),\"alpha_filter_high\":alpha_filter_high.copy(),\"beta_filter_high\":beta_filter_high.copy(),\"gamma_filter_high\":gamma_filter_high.copy()}\n",
    "keys_high = list(pain_bands_copy.keys())\n",
    "keys_low = list(nopain_bands_copy.keys())\n",
    "\n",
    "for filter_low,filter_high in zip(keys_low,keys_high):\n",
    "  pca = PCA(n_components=198)\n",
    "  pain_bands_copy[filter_high] = pca.fit_transform(pain_bands_copy[filter_high])\n",
    "  nopain_bands_copy[filter_low]=pca.fit_transform(nopain_bands_copy[filter_low])"
   ]
  },
  {
   "cell_type": "code",
   "execution_count": null,
   "metadata": {
    "id": "LIv_Y_7-VjT2"
   },
   "outputs": [],
   "source": [
    "#Now eliminating the redundant channel\n",
    "from sklearn.decomposition import PCA\n",
    "\n",
    "for filter_low,filter_high in zip(keys_low,keys_high):\n",
    "  pca = PCA(n_components=197)\n",
    "  pain_bands_copy[filter_high] = pca.fit_transform(pain_bands_copy[filter_high].T).T\n",
    "  nopain_bands_copy[filter_low]=pca.fit_transform(nopain_bands_copy[filter_low].T).T\n"
   ]
  },
  {
   "cell_type": "code",
   "execution_count": null,
   "metadata": {
    "colab": {
     "base_uri": "https://localhost:8080/"
    },
    "id": "yrgBvEcCunTL",
    "outputId": "62978cbc-6430-4738-a5a5-0f179407c1ad"
   },
   "outputs": [],
   "source": [
    "pain_bands_copy[\"delta_filter_high\"].shape\n",
    "#channels x #samples"
   ]
  },
  {
   "cell_type": "code",
   "execution_count": null,
   "metadata": {
    "id": "J02MbdHvrPKU"
   },
   "outputs": [],
   "source": [
    "R = np.matmul(pain_bands_copy[\"delta_filter_high\"],pain_bands_copy[\"delta_filter_high\"].T)"
   ]
  },
  {
   "cell_type": "code",
   "execution_count": null,
   "metadata": {
    "colab": {
     "base_uri": "https://localhost:8080/"
    },
    "id": "0cpXcTBsZsOf",
    "outputId": "607d81d9-3080-4365-ad8d-2fa06e955dfd"
   },
   "outputs": [],
   "source": [
    "#ignore this, this is sanity check\n",
    "\n",
    "pain_bands_copy[\"delta_filter_high\"].shape #n_channelsxn_samples\n",
    "#ram crashes here\n",
    "R = np.dot(pain_bands_copy[\"delta_filter_high\"],pain_bands_copy[\"delta_filter_high\"].T)\n",
    "print(R.shape)\n",
    "print(np.linalg.matrix_rank(R.T))"
   ]
  },
  {
   "cell_type": "code",
   "execution_count": null,
   "metadata": {
    "colab": {
     "base_uri": "https://localhost:8080/"
    },
    "id": "l4o6ocPucj-c",
    "outputId": "2c7991b0-f31d-407c-edae-4dd8c2895ecb"
   },
   "outputs": [],
   "source": [
    "csp = np.array(CSP(pain_bands_copy[\"delta_filter_high\"].reshape(1,pain_bands_copy[\"delta_filter_high\"].shape[0],pain_bands_copy[\"delta_filter_high\"].shape[1]),nopain_bands_copy[\"delta_filter_low\"].reshape(1,nopain_bands_copy[\"delta_filter_low\"].shape[0],nopain_bands_copy[\"delta_filter_low\"].shape[1])))"
   ]
  },
  {
   "cell_type": "code",
   "execution_count": null,
   "metadata": {
    "id": "MPySsBwQy_TR"
   },
   "outputs": [],
   "source": [
    "csp_pain = csp[0,:,:]\n",
    "csp_nopain = csp[1,:,:]"
   ]
  },
  {
   "cell_type": "code",
   "execution_count": null,
   "metadata": {
    "id": "VxGxNbyGzKgG"
   },
   "outputs": [],
   "source": [
    "k = 1\n",
    "\n",
    "# Take the first k rows\n",
    "first_k_rows = csp_pain[:k, :]\n",
    "\n",
    "# Take the last k rows\n",
    "last_k_rows = csp_pain[-k:, :]\n",
    "\n",
    "# Concatenate the first k rows and last k rows into a single matrix\n",
    "csp_k_filters = np.concatenate((first_k_rows, last_k_rows), axis=0)"
   ]
  },
  {
   "cell_type": "code",
   "execution_count": null,
   "metadata": {
    "colab": {
     "base_uri": "https://localhost:8080/"
    },
    "id": "L9kWhynDzgqw",
    "outputId": "a1616f80-c5c2-4d70-e2f3-68ae659452b8"
   },
   "outputs": [],
   "source": [
    "csp_k_filters.shape"
   ]
  },
  {
   "cell_type": "code",
   "execution_count": null,
   "metadata": {
    "colab": {
     "base_uri": "https://localhost:8080/"
    },
    "id": "bS4mHdG10bEF",
    "outputId": "ba6c3829-e73e-4084-b318-8df5032abded"
   },
   "outputs": [],
   "source": [
    "pain_bands_copy[\"delta_filter_high\"]"
   ]
  },
  {
   "cell_type": "code",
   "execution_count": null,
   "metadata": {
    "id": "tQgr078U0JLM"
   },
   "outputs": [],
   "source": [
    "transformed_filter_pain = csp_k_filters @ pain_bands_copy[\"delta_filter_high\"]"
   ]
  },
  {
   "cell_type": "code",
   "execution_count": null,
   "metadata": {
    "id": "nZkGriQf0l5e"
   },
   "outputs": [],
   "source": [
    "k = 1\n",
    "\n",
    "# Take the first k rows\n",
    "first_k_rows = csp_nopain[:k, :]\n",
    "\n",
    "# Take the last k rows\n",
    "last_k_rows = csp_nopain[-k:, :]\n",
    "\n",
    "# Concatenate the first k rows and last k rows into a single matrix\n",
    "csp_k_filters_np = np.concatenate((first_k_rows, last_k_rows), axis=0)"
   ]
  },
  {
   "cell_type": "code",
   "execution_count": null,
   "metadata": {
    "id": "6gjXYLe61FaW"
   },
   "outputs": [],
   "source": [
    "transformed_filter_nopain = csp_k_filters_np @ nopain_bands_copy[\"delta_filter_low\"]"
   ]
  },
  {
   "cell_type": "code",
   "execution_count": null,
   "metadata": {
    "colab": {
     "base_uri": "https://localhost:8080/",
     "height": 447
    },
    "id": "LLERZ_Qf1LUa",
    "outputId": "b014414e-3e5f-4671-aa07-9481eb86049f"
   },
   "outputs": [],
   "source": [
    "#c=y, cmap=plt.cm.coolwarm, s=50, edgecolors='k'\n",
    "y = [np.ones((198)),np.zeros((198))]\n",
    "plt.scatter(transformed_filter_pain[0,:],transformed_filter_pain[1,:],c='red',alpha=0.3)\n",
    "plt.scatter(transformed_filter_nopain[0,:],transformed_filter_nopain[1,:],c='green',alpha=0.3)"
   ]
  },
  {
   "cell_type": "code",
   "execution_count": null,
   "metadata": {
    "colab": {
     "base_uri": "https://localhost:8080/",
     "height": 447
    },
    "id": "lBI5N08B3UdI",
    "outputId": "9f00c52a-0c29-45f5-a3b1-e83e348f1891"
   },
   "outputs": [],
   "source": [
    "y = [np.ones((198)),np.zeros((198))]\n",
    "x=np.arange(len(transformed_filter_pain[0,:]))\n",
    "plt.scatter(x,transformed_filter_pain[0,:],c='red',alpha=0.3,label='CSP_feature_1')\n",
    "plt.scatter(x,transformed_filter_pain[1,:],c='blue',alpha=0.3,label='CSP_feature_2')\n",
    "plt.legend()\n"
   ]
  },
  {
   "cell_type": "code",
   "execution_count": null,
   "metadata": {
    "colab": {
     "base_uri": "https://localhost:8080/",
     "height": 447
    },
    "id": "YPwucoMR3dYB",
    "outputId": "57e7806e-e62b-4f04-8100-3466d1b805e8"
   },
   "outputs": [],
   "source": [
    "x=np.arange(len(transformed_filter_pain[0,175:]))\n",
    "# plt.scatter(x,transformed_filter_pain[0,175:],c='red',alpha=0.3,label='CSP_pain_feature_1')\n",
    "plt.scatter(x,transformed_filter_pain[1,175:],c='blue',alpha=0.3,label='CSP_pain_feature_2')\n",
    "plt.scatter(x,transformed_filter_nopain[0,175:],c='green',alpha=0.3,label='CSP_nopain_feature_1')\n",
    "# plt.scatter(x,transformed_filter_nopain[1,175:],c='yellow',alpha=0.3,label='CSP_nopain_feature_2')\n",
    "plt.legend()\n"
   ]
  },
  {
   "cell_type": "markdown",
   "metadata": {
    "id": "Ji2cPZtmVd76"
   },
   "source": [
    "As you can see in the above plot that when we select two csp components of power bands of delta filter signals, only 10-15 samples are distinguishable to a little extent by features 2 of pain state and 1 of no pain state."
   ]
  },
  {
   "cell_type": "code",
   "execution_count": null,
   "metadata": {
    "id": "bOqeKv34VuY2"
   },
   "outputs": [],
   "source": []
  }
 ],
 "metadata": {
  "colab": {
   "provenance": []
  },
  "kernelspec": {
   "display_name": "Python 3 (ipykernel)",
   "language": "python",
   "name": "python3"
  },
  "language_info": {
   "codemirror_mode": {
    "name": "ipython",
    "version": 3
   },
   "file_extension": ".py",
   "mimetype": "text/x-python",
   "name": "python",
   "nbconvert_exporter": "python",
   "pygments_lexer": "ipython3",
   "version": "3.9.7"
  }
 },
 "nbformat": 4,
 "nbformat_minor": 1
}
